{
 "cells": [
  {
   "cell_type": "code",
   "execution_count": 61,
   "metadata": {},
   "outputs": [],
   "source": [
    "from astropy.table import Table\n",
    "from astropy import units as u\n",
    "from astropy.coordinates import SkyCoord\n",
    "from astropy.io import ascii, fits\n",
    "import astropy\n",
    "from astropy.wcs import WCS\n",
    "from astropy import wcs\n",
    "from astropy import constants as const\n",
    "import numpy as np\n",
    "import matplotlib.pyplot as plt\n",
    "import matplotlib.colors"
   ]
  },
  {
   "cell_type": "code",
   "execution_count": 106,
   "metadata": {},
   "outputs": [
    {
     "name": "stderr",
     "output_type": "stream",
     "text": [
      "WARNING: FITSFixedWarning: 'obsfix' made the change 'Set OBSGEO-L to  -107.618000 from OBSGEO-[XYZ].\n",
      "Set OBSGEO-B to    34.078827 from OBSGEO-[XYZ].\n",
      "Set OBSGEO-H to     2115.607 from OBSGEO-[XYZ]'. [astropy.wcs.wcs]\n",
      "WARNING: FITSFixedWarning: 'obsfix' made the change 'Set OBSGEO-L to  -107.618000 from OBSGEO-[XYZ].\n",
      "Set OBSGEO-B to    34.078827 from OBSGEO-[XYZ].\n",
      "Set OBSGEO-H to     2115.607 from OBSGEO-[XYZ]'. [astropy.wcs.wcs]\n"
     ]
    },
    {
     "data": {
      "image/png": "[encoded data removed]",
      "text/plain": [
       "<Figure size 1000x1000 with 1 Axes>"
      ]
     },
     "metadata": {
      "needs_background": "light"
     },
     "output_type": "display_data"
    }
   ],
   "source": [
    "\n",
    "fp = '/Users/josh/GitHub/W51/'\n",
    "###Retrieve source data###\n",
    "\n",
    "\n",
    "#RUN ALMA_IMF_CAT.PY FIRST\n",
    "cat_w51e = ascii.read('/Users/josh/GitHub/W51/data/W51-E.sw.sources.fin.ok_dec2020.cat', data_start=0, format='commented_header', header_start=110,  comment=\"!\")\n",
    "cat_w51irs2 = ascii.read('/Users/josh/GitHub/W51/data/W51-IRS2.sw.sources.fin.ok_dec2020.cat', data_start=0, format='commented_header', header_start=110, comment=\"!\")\n",
    "\n",
    "\n",
    "alma_imf_w51e_ra = cat_w51e['WCS_ACOOR']\n",
    "alma_imf_w51e_dec = cat_w51e['WCS_DCOOR']\n",
    "alma_imf_w51e_flux = cat_w51e['FXT_BST02']\n",
    "\n",
    "alma_imf_irs2_ra = cat_w51irs2['WCS_ACOOR']\n",
    "alma_imf_irs2_dec = cat_w51irs2['WCS_DCOOR']\n",
    "alma_imf_irs2_flux = cat_w51irs2['FXT_BST02']\n",
    "\n",
    "\n",
    "\n",
    "fp = '/Users/josh/GitHub/W51/'\n",
    "catalog = Table.read(fp+'data/byeye_catalog.tex')\n",
    "dendrocat = Table.read(fp+'data/dendro_catalog.tex')\n",
    "\n",
    "cat_ra = [float(i) for i in catalog['PeakRA'][1:]]\n",
    "cat_dec = [float(i) for i in catalog['PeakDec'][1:]]\n",
    "cat_flux = catalog['peak']\n",
    "\n",
    "dendrocat_ra = dendrocat['x_cen']\n",
    "dendrocat_dec = dendrocat['y_cen']\n",
    "dendrocat_flux = dendrocat['peak_cont_flux']\n",
    "\n",
    "plt.figure(figsize=(8,8), dpi=125)\n",
    "parmap = fits.open('/Users/josh/GitHub/W51/data/par_maps.fits')\n",
    "bg = fits.open('/Users/josh/GitHub/W51/data/m0_44.fits')\n",
    "ww_2 = wcs.WCS(bg[0].header).celestial\n",
    "ww = wcs.WCS(parmap[0].header).celestial\n",
    "plt.subplot(projection=ww_2)\n",
    "ax = plt.gca()\n",
    "#plt.imshow(parmap[0].data[0])\n",
    "#plt.imshow(bg[0].data)\n",
    "plt.imshow(mask)\n",
    "plt.plot(cat_ra, cat_dec, 'r.', transform=ax.get_transform('world'))\n",
    "#plt.plot(dendrocat_ra[1:], dendrocat_dec[1:], 'r.', transform=ax.get_transform('world'))\n",
    "plt.xlim(170,200)\n",
    "plt.ylim(180,210)\n",
    "plt.show()"
   ]
  },
  {
   "cell_type": "code",
   "execution_count": 24,
   "metadata": {},
   "outputs": [
    {
     "data": {
      "text/plain": [
       "array([[nan, nan, nan, ..., nan, nan, nan],\n",
       "       [nan, nan, nan, ..., nan, nan, nan],\n",
       "       [nan, nan, nan, ..., nan, nan, nan],\n",
       "       ...,\n",
       "       [nan, nan, nan, ..., nan, nan, nan],\n",
       "       [nan, nan, nan, ..., nan, nan, nan],\n",
       "       [nan, nan, nan, ..., nan, nan, nan]])"
      ]
     },
     "execution_count": 24,
     "metadata": {},
     "output_type": "execute_result"
    }
   ],
   "source": [
    "12 + 7"
   ]
  },
  {
   "cell_type": "code",
   "execution_count": 45,
   "metadata": {},
   "outputs": [
    {
     "name": "stderr",
     "output_type": "stream",
     "text": [
      "<ipython-input-45-53b90f1535db>:1: RuntimeWarning: invalid value encountered in greater\n",
      "  mask = bg[0].data > 23\n"
     ]
    }
   ],
   "source": [
    "mask = bg[0].data > 23"
   ]
  },
  {
   "cell_type": "code",
   "execution_count": 46,
   "metadata": {},
   "outputs": [
    {
     "data": {
      "text/plain": [
       "array([[0, 0, 0, ..., 0, 0, 0],\n",
       "       [0, 0, 0, ..., 0, 0, 0],\n",
       "       [0, 0, 0, ..., 0, 0, 0],\n",
       "       ...,\n",
       "       [0, 0, 0, ..., 0, 0, 0],\n",
       "       [0, 0, 0, ..., 0, 0, 0],\n",
       "       [0, 0, 0, ..., 0, 0, 0]])"
      ]
     },
     "execution_count": 46,
     "metadata": {},
     "output_type": "execute_result"
    }
   ],
   "source": [
    "mask * 1"
   ]
  },
  {
   "cell_type": "code",
   "execution_count": 47,
   "metadata": {},
   "outputs": [
    {
     "data": {
      "text/plain": [
       "<matplotlib.image.AxesImage at 0x7f8fe3708130>"
      ]
     },
     "execution_count": 47,
     "metadata": {},
     "output_type": "execute_result"
    },
    {
     "data": {
      "image/png": "[encoded data removed]",
      "text/plain": [
       "<Figure size 432x288 with 1 Axes>"
      ]
     },
     "metadata": {
      "needs_background": "light"
     },
     "output_type": "display_data"
    }
   ],
   "source": [
    "plt.imshow(mask, origin='lower')"
   ]
  },
  {
   "cell_type": "code",
   "execution_count": 65,
   "metadata": {},
   "outputs": [],
   "source": [
    "cat_coords = SkyCoord"
   ]
  },
  {
   "cell_type": "code",
   "execution_count": 71,
   "metadata": {},
   "outputs": [],
   "source": [
    "cat_pix = astropy.wcs.utils.skycoord_to_pixel(coords=cat_coords, wcs= ww_2)"
   ]
  },
  {
   "cell_type": "code",
   "execution_count": 69,
   "metadata": {},
   "outputs": [],
   "source": [
    "cat_coords = SkyCoord(cat_ra, cat_dec, unit = u.deg)"
   ]
  },
  {
   "cell_type": "code",
   "execution_count": 74,
   "metadata": {},
   "outputs": [
    {
     "ename": "ValueError",
     "evalue": "operands could not be broadcast together with shapes (300,300) (77,) ",
     "output_type": "error",
     "traceback": [
      "\u001b[0;31m---------------------------------------------------------------------------\u001b[0m",
      "\u001b[0;31mValueError\u001b[0m                                Traceback (most recent call last)",
      "\u001b[0;32m<ipython-input-74-53a1693dd4ec>\u001b[0m in \u001b[0;36m<module>\u001b[0;34m\u001b[0m\n\u001b[0;32m----> 1\u001b[0;31m \u001b[0mmask\u001b[0m \u001b[0;34m*\u001b[0m \u001b[0mcat_coords\u001b[0m\u001b[0;34m\u001b[0m\u001b[0;34m\u001b[0m\u001b[0m\n\u001b[0m",
      "\u001b[0;31mValueError\u001b[0m: operands could not be broadcast together with shapes (300,300) (77,) "
     ]
    }
   ],
   "source": [
    "mask * cat_coords"
   ]
  },
  {
   "cell_type": "code",
   "execution_count": 81,
   "metadata": {},
   "outputs": [
    {
     "data": {
      "text/plain": [
       "array([173.01382669, 169.31390305, 143.31424032, 146.8142401 ,\n",
       "       172.61403978, 142.21423515, 200.61375303, 149.11367527,\n",
       "       202.11378736, 159.21370489, 148.31421486, 156.91349964,\n",
       "       197.11391024, 200.91384904, 144.31357566, 156.71349341,\n",
       "       199.11383645, 157.81359536, 201.2138412 , 200.01354011,\n",
       "       159.91351486, 146.01430144, 141.41366529, 131.91372581,\n",
       "       131.81372875, 210.91356011, 140.71365305, 138.41367927,\n",
       "       203.91383026, 139.21368156, 155.81394661, 155.51350216,\n",
       "       149.61368761, 144.11425331, 130.5139348 , 136.21373644,\n",
       "       153.41383477, 176.013567  , 135.31373715, 157.81370589,\n",
       "       151.51370088, 189.41357375, 157.2136913 , 135.21373529,\n",
       "       157.31369726, 202.11378736, 160.21414253, 189.41357375,\n",
       "       127.01386039, 207.81354355, 127.51405214, 124.71391175,\n",
       "       156.01365833, 125.5140011 , 126.11401533, 128.31401189,\n",
       "       125.5140011 , 128.71408094, 129.41404331, 127.214026  ,\n",
       "       127.71405225, 127.51405214, 185.61356063, 203.8138274 ,\n",
       "       185.61356063, 128.31401189, 185.81354438, 185.81354438,\n",
       "       183.81353766, 185.61356063, 126.31391273, 183.11354256,\n",
       "       126.31391324, 126.21397282, 126.31391324, 126.31391324,\n",
       "       182.91353896])"
      ]
     },
     "execution_count": 81,
     "metadata": {},
     "output_type": "execute_result"
    }
   ],
   "source": [
    "cat_pix[0]"
   ]
  },
  {
   "cell_type": "code",
   "execution_count": 84,
   "metadata": {},
   "outputs": [
    {
     "data": {
      "text/plain": [
       "<matplotlib.collections.PathCollection at 0x7f8fbc73a220>"
      ]
     },
     "execution_count": 84,
     "metadata": {},
     "output_type": "execute_result"
    },
    {
     "data": {
      "image/png": "[encoded data removed]",
      "text/plain": [
       "<Figure size 432x288 with 1 Axes>"
      ]
     },
     "metadata": {
      "needs_background": "light"
     },
     "output_type": "display_data"
    }
   ],
   "source": [
    "plt.scatter(cat_pix[0], cat_pix[1])"
   ]
  },
  {
   "cell_type": "code",
   "execution_count": null,
   "metadata": {},
   "outputs": [],
   "source": []
  }
 ],
 "metadata": {
  "kernelspec": {
   "display_name": "Python 3",
   "language": "python",
   "name": "python3"
  },
  "language_info": {
   "codemirror_mode": {
    "name": "ipython",
    "version": 3
   },
   "file_extension": ".py",
   "mimetype": "text/x-python",
   "name": "python",
   "nbconvert_exporter": "python",
   "pygments_lexer": "ipython3",
   "version": "3.8.3"
  }
 },
 "nbformat": 4,
 "nbformat_minor": 4
}
